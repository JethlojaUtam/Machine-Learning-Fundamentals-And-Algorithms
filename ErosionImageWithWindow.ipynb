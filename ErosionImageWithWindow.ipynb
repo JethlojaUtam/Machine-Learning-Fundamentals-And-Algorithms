{
 "cells": [
  {
   "cell_type": "code",
   "execution_count": 2,
   "id": "faa7465f-fccf-4b0e-adac-d7b6f948ae18",
   "metadata": {},
   "outputs": [],
   "source": [
    "# Erosion and Dilation Image\n",
    "\n",
    "import cv2\n",
    "import matplotlib.pyplot as plt\n",
    "import numpy as np\n",
    "\n",
    "#Load image\n",
    "img=cv2.imread('one.jpg')\n",
    "\n",
    "#Creating the kernel\n",
    "kernel=np.ones((3,3),np.uint8)\n",
    "\n",
    "#Appling the Erosion\n",
    "erosion=cv2.erode(img,kernel,iterations=1)\n",
    "\n",
    "#The image show\n",
    "cv2.imshow(\"Source Image\",img)\n",
    "cv2.imshow(\"Erotion Image\",erosion)\n",
    "cv2.waitKey(0)\n",
    "cv2.destroyAllWindows()"
   ]
  },
  {
   "cell_type": "code",
   "execution_count": null,
   "id": "d3e036f8-409d-484f-a534-93baabc07c53",
   "metadata": {},
   "outputs": [],
   "source": []
  }
 ],
 "metadata": {
  "kernelspec": {
   "display_name": "Python 3 (ipykernel)",
   "language": "python",
   "name": "python3"
  },
  "language_info": {
   "codemirror_mode": {
    "name": "ipython",
    "version": 3
   },
   "file_extension": ".py",
   "mimetype": "text/x-python",
   "name": "python",
   "nbconvert_exporter": "python",
   "pygments_lexer": "ipython3",
   "version": "3.13.2"
  }
 },
 "nbformat": 4,
 "nbformat_minor": 5
}
