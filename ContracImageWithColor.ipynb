{
 "cells": [
  {
   "cell_type": "code",
   "execution_count": 10,
   "id": "8e8cd713-c299-4f8f-8f88-57638c61643e",
   "metadata": {},
   "outputs": [
    {
     "ename": "error",
     "evalue": "OpenCV(4.12.0) :-1: error: (-5:Bad argument) in function 'merge'\n> Overload resolution failed:\n>  - merge() takes at most 2 arguments (3 given)\n>  - merge() takes at most 2 arguments (3 given)\n",
     "output_type": "error",
     "traceback": [
      "\u001b[31m---------------------------------------------------------------------------\u001b[39m",
      "\u001b[31merror\u001b[39m                                     Traceback (most recent call last)",
      "\u001b[36mCell\u001b[39m\u001b[36m \u001b[39m\u001b[32mIn[10]\u001b[39m\u001b[32m, line 17\u001b[39m\n\u001b[32m     15\u001b[39m \u001b[38;5;66;03m#Global histogram equalizetion\u001b[39;00m\n\u001b[32m     16\u001b[39m y_eq=cv2.equalizeHist(y)\n\u001b[32m---> \u001b[39m\u001b[32m17\u001b[39m ycrcb_eq=\u001b[43mcv2\u001b[49m\u001b[43m.\u001b[49m\u001b[43mmerge\u001b[49m\u001b[43m(\u001b[49m\u001b[43my_eq\u001b[49m\u001b[43m,\u001b[49m\u001b[43mcr\u001b[49m\u001b[43m,\u001b[49m\u001b[43mcb\u001b[49m\u001b[43m)\u001b[49m\n\u001b[32m     19\u001b[39m \u001b[38;5;66;03m#Convert an image to BGR\u001b[39;00m\n\u001b[32m     20\u001b[39m global_eq=cv2.cvtColor(ycrcb_eq,cv2.COLOR_YCrCb2BGR)\n",
      "\u001b[31merror\u001b[39m: OpenCV(4.12.0) :-1: error: (-5:Bad argument) in function 'merge'\n> Overload resolution failed:\n>  - merge() takes at most 2 arguments (3 given)\n>  - merge() takes at most 2 arguments (3 given)\n"
     ]
    }
   ],
   "source": [
    "#Contrac the color image\n",
    "#Using Global histogram equalizetion\n",
    "import cv2\n",
    "import numpy as np\n",
    "import matplotlib.pyplot as plt\n",
    "\n",
    "img=cv2.imread('Utam.jpg')\n",
    "\n",
    "#Convert an image to ycrcb\n",
    "ycrcb=cv2.cvtColor(img,cv2.COLOR_BGR2YCrCb)\n",
    "\n",
    "#Split the color channel\n",
    "y,cr,cb=cv2.split(ycrcb)\n",
    "\n",
    "#Global histogram equalizetion\n",
    "y_eq=cv2.equalizeHist(y)\n",
    "ycrcb_eq=cv2.merge(y_eq,cr,cb)\n",
    "\n",
    "#Convert an image to BGR\n",
    "global_eq=cv2.cvtColor(ycrcb_eq,cv2.COLOR_YCrCb2BGR)\n",
    "\n",
    "#Convert an image from BGR to RGB\n",
    "source=cv2.cvtColor(img,cv2.COLOR_BGR2RGB)\n",
    "global_eq1=cv2.cvtColor(global_eq,cv2.COLOR_BGR2RGB)\n",
    "\n",
    "#Ploting the image\n",
    "plt.subplot(1,2,1),plt.imshow(img),plt.title('Sourece Image'),plt.axis('off')\n",
    "plt.subplot(1,2,2),plt.imshow(global_eq1),plt.title('EqulizeHist Image'),plt.axis('off')"
   ]
  },
  {
   "cell_type": "code",
   "execution_count": null,
   "id": "67d91c7e-c8e3-4197-914c-0eb49a73879c",
   "metadata": {},
   "outputs": [],
   "source": []
  }
 ],
 "metadata": {
  "kernelspec": {
   "display_name": "Python 3 (ipykernel)",
   "language": "python",
   "name": "python3"
  },
  "language_info": {
   "codemirror_mode": {
    "name": "ipython",
    "version": 3
   },
   "file_extension": ".py",
   "mimetype": "text/x-python",
   "name": "python",
   "nbconvert_exporter": "python",
   "pygments_lexer": "ipython3",
   "version": "3.13.2"
  }
 },
 "nbformat": 4,
 "nbformat_minor": 5
}
